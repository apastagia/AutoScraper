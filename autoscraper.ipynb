{
 "cells": [
  {
   "cell_type": "code",
   "execution_count": 1,
   "metadata": {},
   "outputs": [],
   "source": [
    "from autoscraper import AutoScraper"
   ]
  },
  {
   "cell_type": "code",
   "execution_count": 2,
   "metadata": {},
   "outputs": [],
   "source": [
    "url = \"enter url",
    "\n",
    "requirements = ['Image-Classification']"
   ]
  },
  {
   "cell_type": "code",
   "execution_count": 3,
   "metadata": {},
   "outputs": [],
   "source": [
    "scraper = AutoScraper()\n",
    "result = scraper.build(url, requirements)"
   ]
  },
  {
   "cell_type": "code",
   "execution_count": 4,
   "metadata": {},
   "outputs": [
    {
     "data": {
      "text/plain": [
       "['Deployment_Pywebio_Flask',\n",
       " 'Metrics_to_Evaluate',\n",
       " 'MobileApp-for-ML-Model',\n",
       " 'EvalML_Library',\n",
       " 'Lazy-Predict',\n",
       " 'Multiple-Linear-Regression-MultiCollinearity',\n",
       " 'Standardization-and-Normalization---Feature-Engineering',\n",
       " 'Surviving_People_Prediction',\n",
       " 'Prediction-Covid-19',\n",
       " 'K-Nearest-Neighbor-Classification',\n",
       " 'Silhouette-clustering-',\n",
       " 'Hierarchical-Clustering',\n",
       " 'Temperature-weather-Prediction',\n",
       " 'K-Means-Clustering',\n",
       " 'Rienforcement-Learning',\n",
       " 'Image-Classification',\n",
       " 'Flight-Price-Prediction',\n",
       " 'Student-Score-Prediction',\n",
       " 'Feature-Selection',\n",
       " 'Movie-Recommendation-System',\n",
       " 'Score-Analytics-',\n",
       " 'Feature-Engineering',\n",
       " 'Model-Selection-and-Cross-Validation',\n",
       " 'House-Price-Prediction',\n",
       " 'Car-Selling-Prediction',\n",
       " 'Predicting-Next-Word',\n",
       " 'LoginApp']"
      ]
     },
     "execution_count": 4,
     "metadata": {},
     "output_type": "execute_result"
    }
   ],
   "source": [
    "result"
   ]
  },
  {
   "cell_type": "code",
   "execution_count": 5,
   "metadata": {},
   "outputs": [
    {
     "data": {
      "text/plain": [
       "['Hawa-Hawai', 'Airline-Reservation-System', 'ShopApplication']"
      ]
     },
     "execution_count": 5,
     "metadata": {},
     "output_type": "execute_result"
    }
   ],
   "source": [
    "scraper.get_result_similar(\"enter different url for fetching same information from that particular url")"
   ]
  },
  {
   "cell_type": "code",
   "execution_count": null,
   "metadata": {},
   "outputs": [],
   "source": []
  }
 ],
 "metadata": {
  "kernelspec": {
   "display_name": "Python 3",
   "language": "python",
   "name": "python3"
  },
  "language_info": {
   "codemirror_mode": {
    "name": "ipython",
    "version": 3
   },
   "file_extension": ".py",
   "mimetype": "text/x-python",
   "name": "python",
   "nbconvert_exporter": "python",
   "pygments_lexer": "ipython3",
   "version": "3.8.3"
  }
 },
 "nbformat": 4,
 "nbformat_minor": 4
}
